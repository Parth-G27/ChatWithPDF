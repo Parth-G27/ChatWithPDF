{
 "cells": [
  {
   "cell_type": "markdown",
   "metadata": {},
   "source": [
    "### Using an OpenAI API key "
   ]
  },
  {
   "cell_type": "code",
   "execution_count": 28,
   "metadata": {},
   "outputs": [],
   "source": [
    "from langchain.llms import OpenAI"
   ]
  },
  {
   "cell_type": "code",
   "execution_count": 29,
   "metadata": {},
   "outputs": [],
   "source": [
    "from dotenv import load_dotenv\n",
    "import os\n",
    "\n",
    "load_dotenv()\n",
    "\n",
    "openai_api_key_env = os.environ.get(\"OPENAI_API_KEY\")"
   ]
  },
  {
   "cell_type": "code",
   "execution_count": 30,
   "metadata": {},
   "outputs": [],
   "source": [
    "openai_llm = OpenAI(openai_api_key=openai_api_key_env,model_name=\"gpt-3.5-turbo-instruct\",temperature=0.6)"
   ]
  },
  {
   "cell_type": "code",
   "execution_count": 31,
   "metadata": {},
   "outputs": [
    {
     "name": "stdout",
     "output_type": "stream",
     "text": [
      "\n",
      "\n",
      "An apple is a round, juicy fruit with a shiny, smooth skin that comes in various shades of red, green, and yellow. It has a crisp texture and a sweet and slightly tart flavor.\n"
     ]
    }
   ],
   "source": [
    "text = \"Give a description of an apple in 25 words\"\n",
    "\n",
    "print(openai_llm.predict(text))"
   ]
  },
  {
   "cell_type": "markdown",
   "metadata": {},
   "source": [
    "### Using a HuggingFace access token to use Open Source LLM Model"
   ]
  },
  {
   "cell_type": "code",
   "execution_count": 32,
   "metadata": {},
   "outputs": [],
   "source": [
    "load_dotenv()\n",
    "hf_access_token_env = os.environ.get(\"HUGGINGFACE_ACCESS_TOKEN\")"
   ]
  },
  {
   "cell_type": "code",
   "execution_count": 33,
   "metadata": {},
   "outputs": [],
   "source": [
    "from langchain import HuggingFaceHub\n",
    "hf_llm = HuggingFaceHub(huggingfacehub_api_token = hf_access_token_env,\n",
    "                        repo_id=\"google/flan-t5-large\",\n",
    "                        model_kwargs={\"temperature\" : 0,\"max_length\":64})"
   ]
  },
  {
   "cell_type": "code",
   "execution_count": 34,
   "metadata": {},
   "outputs": [
    {
     "data": {
      "text/plain": [
       "'green'"
      ]
     },
     "execution_count": 34,
     "metadata": {},
     "output_type": "execute_result"
    }
   ],
   "source": [
    "output = hf_llm.predict(\"What color is an apple ?\")\n",
    "output"
   ]
  },
  {
   "cell_type": "markdown",
   "metadata": {},
   "source": [
    "### Prompt templates & LLMChain"
   ]
  },
  {
   "cell_type": "code",
   "execution_count": 35,
   "metadata": {},
   "outputs": [
    {
     "data": {
      "text/plain": [
       "'Tell me the currency of Italy'"
      ]
     },
     "execution_count": 35,
     "metadata": {},
     "output_type": "execute_result"
    }
   ],
   "source": [
    "from langchain.prompts import PromptTemplate\n",
    "promptTemplate = PromptTemplate(input_variables=['country'],\n",
    "                                template= \"Tell me the currency of {country}\")\n",
    "\n",
    "promptTemplate.format(country=\"Italy\")"
   ]
  },
  {
   "cell_type": "code",
   "execution_count": 36,
   "metadata": {},
   "outputs": [
    {
     "data": {
      "text/plain": [
       "'\\n\\nThe currency of New Zealand is the New Zealand dollar (NZD).'"
      ]
     },
     "execution_count": 36,
     "metadata": {},
     "output_type": "execute_result"
    }
   ],
   "source": [
    "from langchain.chains import LLMChain\n",
    "chain = LLMChain(llm = openai_llm,\n",
    "                 prompt = promptTemplate)\n",
    "chain.run(\"New Zeland\")"
   ]
  },
  {
   "cell_type": "markdown",
   "metadata": {},
   "source": [
    "### Combining multiple chains using Simple Sequential Chain"
   ]
  },
  {
   "cell_type": "code",
   "execution_count": 37,
   "metadata": {},
   "outputs": [],
   "source": [
    "captial_template = PromptTemplate(input_variables=['Country'],\n",
    "                                template=\"Tell me the capital of the {Country}\")\n",
    "\n",
    "capital_chain = LLMChain(llm=openai_llm,prompt=captial_template)\n",
    "\n",
    "famous_template = PromptTemplate(input_variables=['Capital'],\n",
    "                                 template=\"suggest me 3 places to visit in {Capital}\")\n",
    "\n",
    "famous_chain = LLMChain(llm=openai_llm, prompt=famous_template)"
   ]
  },
  {
   "cell_type": "code",
   "execution_count": 38,
   "metadata": {},
   "outputs": [
    {
     "name": "stdout",
     "output_type": "stream",
     "text": [
      "\n",
      "\n",
      "1. Acropolis of Athens - This ancient citadel is home to the iconic Parthenon temple and offers stunning views of the city.\n",
      "\n",
      "2. Plaka Neighborhood - This charming area is known for its picturesque streets, traditional tavernas, and souvenir shops. It's a great place to experience the local culture and cuisine.\n",
      "\n",
      "3. National Archaeological Museum - Considered one of the greatest museums in the world, this museum houses an extensive collection of artifacts from ancient Greece, including sculptures, pottery, and jewelry. \n"
     ]
    }
   ],
   "source": [
    "from langchain.chains import SimpleSequentialChain\n",
    "chain = SimpleSequentialChain(chains=[capital_chain,famous_chain])\n",
    "print(chain.run(\"Greece\"))"
   ]
  },
  {
   "cell_type": "markdown",
   "metadata": {},
   "source": [
    "### SequentialChain"
   ]
  },
  {
   "cell_type": "code",
   "execution_count": 50,
   "metadata": {},
   "outputs": [],
   "source": [
    "from langchain.chains import SequentialChain\n",
    "\n",
    "capital_template=PromptTemplate(input_variables=['country'],\n",
    "                                template=\"Please tell me the capital of the {country}\")\n",
    "\n",
    "capital_chain=LLMChain(llm=openai_llm,prompt=capital_template,output_key=\"capital\")"
   ]
  },
  {
   "cell_type": "code",
   "execution_count": 51,
   "metadata": {},
   "outputs": [],
   "source": [
    "currency_template = PromptTemplate(input_variables=['country'],\n",
    "                                template=\"tell me the currency of {country}\")\n",
    "\n",
    "currency_chain =LLMChain(llm=openai_llm,prompt=currency_template,output_key=\"currency\")"
   ]
  },
  {
   "cell_type": "code",
   "execution_count": 52,
   "metadata": {},
   "outputs": [],
   "source": [
    "\n",
    "famous_template=PromptTemplate(input_variables=['capital'],\n",
    "                               template=\"Suggest me some amazing places to visit in {capital}\")\n",
    "\n",
    "famous_chain=LLMChain(llm=openai_llm,prompt=famous_template,output_key=\"places\")"
   ]
  },
  {
   "cell_type": "code",
   "execution_count": 53,
   "metadata": {},
   "outputs": [],
   "source": [
    "from langchain.chains import SequentialChain\n",
    "chain=SequentialChain(chains=[capital_chain,currency_chain,famous_chain],\n",
    "                      input_variables=['country'],\n",
    "                      output_variables=['capital','currency',\"places\"])"
   ]
  },
  {
   "cell_type": "code",
   "execution_count": 54,
   "metadata": {},
   "outputs": [
    {
     "data": {
      "text/plain": [
       "{'country': 'Japan',\n",
       " 'capital': '\\n\\nThe capital of Japan is Tokyo.',\n",
       " 'currency': '\\n\\nThe currency of Japan is the Japanese Yen (¥).',\n",
       " 'places': \" Here are some amazing places to visit in Tokyo:\\n\\n1. Tokyo Skytree - the tallest tower in Japan with observation decks offering stunning views of the city.\\n\\n2. Shibuya Crossing - the famous intersection known for its busy crowds and neon lights, featured in many movies and TV shows.\\n\\n3. Meiji Shrine - a peaceful Shinto shrine surrounded by a beautiful forest in the heart of the city.\\n\\n4. Tsukiji Fish Market - the largest fish market in the world, where you can witness the famous tuna auctions and enjoy fresh seafood.\\n\\n5. Akihabara - the center of Japan's otaku culture, known for its electronic shops, anime and manga stores, and maid cafes.\\n\\n6. Ueno Park - a beautiful park with museums, temples, shrines, and a zoo, perfect for a relaxing day out.\\n\\n7. Ginza - a high-end shopping district with luxury boutiques, department stores, and upscale restaurants.\\n\\n8. Tokyo Disneyland and DisneySea - two of the most popular theme parks in Japan, perfect for a fun-filled day with family and friends.\\n\\n9. Asakusa - a historic district with the famous Sensoji Temple, traditional shops, and street food stalls.\\n\\n10. Shinjuku Gyoen National Garden - a serene\"}"
      ]
     },
     "execution_count": 54,
     "metadata": {},
     "output_type": "execute_result"
    }
   ],
   "source": [
    "chain({'country':\"Japan\"})\n"
   ]
  }
 ],
 "metadata": {
  "kernelspec": {
   "display_name": "GenAI",
   "language": "python",
   "name": "genai"
  },
  "language_info": {
   "codemirror_mode": {
    "name": "ipython",
    "version": 3
   },
   "file_extension": ".py",
   "mimetype": "text/x-python",
   "name": "python",
   "nbconvert_exporter": "python",
   "pygments_lexer": "ipython3",
   "version": "3.9.0"
  }
 },
 "nbformat": 4,
 "nbformat_minor": 2
}
