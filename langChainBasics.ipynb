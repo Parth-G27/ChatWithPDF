{
 "cells": [
  {
   "cell_type": "markdown",
   "metadata": {},
   "source": [
    "### Using an OpenAI API key "
   ]
  },
  {
   "cell_type": "code",
   "execution_count": 1,
   "metadata": {},
   "outputs": [],
   "source": [
    "from langchain.llms import OpenAI"
   ]
  },
  {
   "cell_type": "code",
   "execution_count": 2,
   "metadata": {},
   "outputs": [],
   "source": [
    "from dotenv import load_dotenv\n",
    "import os\n",
    "\n",
    "load_dotenv()\n",
    "\n",
    "openai_api_key_env = os.environ.get(\"OPENAI_API_KEY\")"
   ]
  },
  {
   "cell_type": "code",
   "execution_count": 3,
   "metadata": {},
   "outputs": [
    {
     "name": "stderr",
     "output_type": "stream",
     "text": [
      "d:\\Langchain\\.venv\\lib\\site-packages\\langchain_core\\_api\\deprecation.py:117: LangChainDeprecationWarning: The class `langchain_community.llms.openai.OpenAI` was deprecated in langchain-community 0.0.10 and will be removed in 0.2.0. An updated version of the class exists in the langchain-openai package and should be used instead. To use it run `pip install -U langchain-openai` and import as `from langchain_openai import OpenAI`.\n",
      "  warn_deprecated(\n"
     ]
    }
   ],
   "source": [
    "openai_llm = OpenAI(openai_api_key=openai_api_key_env,model_name=\"gpt-3.5-turbo-instruct\",temperature=0.6)"
   ]
  },
  {
   "cell_type": "code",
   "execution_count": 4,
   "metadata": {},
   "outputs": [
    {
     "name": "stderr",
     "output_type": "stream",
     "text": [
      "d:\\Langchain\\.venv\\lib\\site-packages\\langchain_core\\_api\\deprecation.py:117: LangChainDeprecationWarning: The function `predict` was deprecated in LangChain 0.1.7 and will be removed in 0.2.0. Use invoke instead.\n",
      "  warn_deprecated(\n"
     ]
    },
    {
     "name": "stdout",
     "output_type": "stream",
     "text": [
      "\n",
      "\n",
      "A round fruit with a smooth, shiny skin ranging from green to red. Its flesh is crisp and juicy with a sweet or tart flavor. \n"
     ]
    }
   ],
   "source": [
    "text = \"Give a description of an apple in 25 words\"\n",
    "\n",
    "print(openai_llm.predict(text))"
   ]
  },
  {
   "cell_type": "markdown",
   "metadata": {},
   "source": [
    "### Using a HuggingFace access token to use Open Source LLM Model"
   ]
  },
  {
   "cell_type": "code",
   "execution_count": 5,
   "metadata": {},
   "outputs": [],
   "source": [
    "load_dotenv()\n",
    "hf_access_token_env = os.environ.get(\"HUGGINGFACE_ACCESS_TOKEN\")"
   ]
  },
  {
   "cell_type": "code",
   "execution_count": 6,
   "metadata": {},
   "outputs": [
    {
     "name": "stderr",
     "output_type": "stream",
     "text": [
      "d:\\Langchain\\.venv\\lib\\site-packages\\langchain_core\\_api\\deprecation.py:117: LangChainDeprecationWarning: The class `langchain_community.llms.huggingface_hub.HuggingFaceHub` was deprecated in langchain-community 0.0.21 and will be removed in 0.2.0. Use HuggingFaceEndpoint instead.\n",
      "  warn_deprecated(\n",
      "d:\\Langchain\\.venv\\lib\\site-packages\\tqdm\\auto.py:21: TqdmWarning: IProgress not found. Please update jupyter and ipywidgets. See https://ipywidgets.readthedocs.io/en/stable/user_install.html\n",
      "  from .autonotebook import tqdm as notebook_tqdm\n"
     ]
    }
   ],
   "source": [
    "from langchain import HuggingFaceHub\n",
    "hf_llm = HuggingFaceHub(huggingfacehub_api_token = hf_access_token_env,\n",
    "                        repo_id=\"google/flan-t5-large\",\n",
    "                        model_kwargs={\"temperature\" : 0,\"max_length\":64})"
   ]
  },
  {
   "cell_type": "code",
   "execution_count": 7,
   "metadata": {},
   "outputs": [
    {
     "data": {
      "text/plain": [
       "'green'"
      ]
     },
     "execution_count": 7,
     "metadata": {},
     "output_type": "execute_result"
    }
   ],
   "source": [
    "output = hf_llm.predict(\"What color is an apple ?\")\n",
    "output"
   ]
  },
  {
   "cell_type": "markdown",
   "metadata": {},
   "source": [
    "### Prompt templates & LLMChain"
   ]
  },
  {
   "cell_type": "code",
   "execution_count": 8,
   "metadata": {},
   "outputs": [
    {
     "data": {
      "text/plain": [
       "'Tell me the currency of Italy'"
      ]
     },
     "execution_count": 8,
     "metadata": {},
     "output_type": "execute_result"
    }
   ],
   "source": [
    "from langchain.prompts import PromptTemplate\n",
    "promptTemplate = PromptTemplate(input_variables=['country'],\n",
    "                                template= \"Tell me the currency of {country}\")\n",
    "\n",
    "promptTemplate.format(country=\"Italy\")"
   ]
  },
  {
   "cell_type": "code",
   "execution_count": 9,
   "metadata": {},
   "outputs": [
    {
     "name": "stderr",
     "output_type": "stream",
     "text": [
      "d:\\Langchain\\.venv\\lib\\site-packages\\langchain_core\\_api\\deprecation.py:117: LangChainDeprecationWarning: The function `run` was deprecated in LangChain 0.1.0 and will be removed in 0.2.0. Use invoke instead.\n",
      "  warn_deprecated(\n"
     ]
    },
    {
     "data": {
      "text/plain": [
       "'\\n\\nThe currency of New Zealand is the New Zealand dollar (NZD).'"
      ]
     },
     "execution_count": 9,
     "metadata": {},
     "output_type": "execute_result"
    }
   ],
   "source": [
    "from langchain.chains import LLMChain\n",
    "chain = LLMChain(llm = openai_llm,\n",
    "                 prompt = promptTemplate)\n",
    "chain.run(\"New Zeland\")"
   ]
  },
  {
   "cell_type": "markdown",
   "metadata": {},
   "source": [
    "### Combining multiple chains using Simple Sequential Chain"
   ]
  },
  {
   "cell_type": "code",
   "execution_count": 10,
   "metadata": {},
   "outputs": [],
   "source": [
    "captial_template = PromptTemplate(input_variables=['Country'],\n",
    "                                template=\"Tell me the capital of the {Country}\")\n",
    "\n",
    "capital_chain = LLMChain(llm=openai_llm,prompt=captial_template)\n",
    "\n",
    "famous_template = PromptTemplate(input_variables=['Capital'],\n",
    "                                 template=\"suggest me 3 places to visit in {Capital}\")\n",
    "\n",
    "famous_chain = LLMChain(llm=openai_llm, prompt=famous_template)"
   ]
  },
  {
   "cell_type": "code",
   "execution_count": 11,
   "metadata": {},
   "outputs": [
    {
     "name": "stdout",
     "output_type": "stream",
     "text": [
      " Some popular places to visit in Athens are:\n",
      "\n",
      "1. Acropolis of Athens: This ancient citadel is home to the iconic Parthenon temple and offers stunning views of the city. It is a must-visit for history and architecture enthusiasts.\n",
      "\n",
      "2. Plaka neighborhood: Located at the foot of the Acropolis, this charming neighborhood is known for its picturesque streets, traditional tavernas, and souvenir shops. It is a great place to explore and experience the local culture.\n",
      "\n",
      "3. National Archaeological Museum: This is one of the largest and most important museums in Greece, housing a vast collection of artifacts and treasures from various eras of Greek history. It is a must-visit for anyone interested in ancient Greek civilization.\n"
     ]
    }
   ],
   "source": [
    "from langchain.chains import SimpleSequentialChain\n",
    "chain = SimpleSequentialChain(chains=[capital_chain,famous_chain])\n",
    "print(chain.run(\"Greece\"))"
   ]
  },
  {
   "cell_type": "markdown",
   "metadata": {},
   "source": [
    "### SequentialChain"
   ]
  },
  {
   "cell_type": "code",
   "execution_count": 12,
   "metadata": {},
   "outputs": [],
   "source": [
    "from langchain.chains import SequentialChain\n",
    "\n",
    "capital_template=PromptTemplate(input_variables=['country'],\n",
    "                                template=\"Please tell me the capital of the {country}\")\n",
    "\n",
    "capital_chain=LLMChain(llm=openai_llm,prompt=capital_template,output_key=\"capital\")"
   ]
  },
  {
   "cell_type": "code",
   "execution_count": 13,
   "metadata": {},
   "outputs": [],
   "source": [
    "currency_template = PromptTemplate(input_variables=['country'],\n",
    "                                template=\"tell me the currency of {country}\")\n",
    "\n",
    "currency_chain =LLMChain(llm=openai_llm,prompt=currency_template,output_key=\"currency\")"
   ]
  },
  {
   "cell_type": "code",
   "execution_count": 14,
   "metadata": {},
   "outputs": [],
   "source": [
    "\n",
    "famous_template=PromptTemplate(input_variables=['capital'],\n",
    "                               template=\"Suggest me some amazing places to visit in {capital}\")\n",
    "\n",
    "famous_chain=LLMChain(llm=openai_llm,prompt=famous_template,output_key=\"places\")"
   ]
  },
  {
   "cell_type": "code",
   "execution_count": 15,
   "metadata": {},
   "outputs": [],
   "source": [
    "from langchain.chains import SequentialChain\n",
    "chain=SequentialChain(chains=[capital_chain,currency_chain,famous_chain],\n",
    "                      input_variables=['country'],\n",
    "                      output_variables=['capital','currency',\"places\"])"
   ]
  },
  {
   "cell_type": "code",
   "execution_count": 16,
   "metadata": {},
   "outputs": [
    {
     "name": "stderr",
     "output_type": "stream",
     "text": [
      "d:\\Langchain\\.venv\\lib\\site-packages\\langchain_core\\_api\\deprecation.py:117: LangChainDeprecationWarning: The function `__call__` was deprecated in LangChain 0.1.0 and will be removed in 0.2.0. Use invoke instead.\n",
      "  warn_deprecated(\n"
     ]
    },
    {
     "data": {
      "text/plain": [
       "{'country': 'Japan',\n",
       " 'capital': '\\n\\nThe capital of Japan is Tokyo.',\n",
       " 'currency': '\\n\\nThe currency of Japan is the Japanese yen (¥ or JPY).',\n",
       " 'places': ' Here are some amazing places to visit in Tokyo:\\n\\n1. Tokyo Skytree\\n2. Sensoji Temple\\n3. Tsukiji Fish Market\\n4. Meiji Shrine\\n5. Shibuya Crossing\\n6. Imperial Palace\\n7. Akihabara\\n8. Shinjuku Gyoen National Garden\\n9. Tokyo Disneyland and DisneySea\\n10. Harajuku\\n11. Odaiba\\n12. Ueno Park\\n13. Roppongi Hills\\n14. Tokyo Tower\\n15. Ginza\\n16. Tokyo National Museum\\n17. Asakusa\\n18. Tokyo Dome City\\n19. Tokyo Sea Life Park\\n20. Tokyo Metropolitan Government Building Observatory.'}"
      ]
     },
     "execution_count": 16,
     "metadata": {},
     "output_type": "execute_result"
    }
   ],
   "source": [
    "chain({'country':\"Japan\"})"
   ]
  },
  {
   "cell_type": "markdown",
   "metadata": {},
   "source": [
    "### Chatmodels with ChatOpenAI"
   ]
  },
  {
   "cell_type": "code",
   "execution_count": 31,
   "metadata": {},
   "outputs": [],
   "source": [
    "from langchain.chat_models import ChatOpenAI\n",
    "from langchain.schema import HumanMessage, SystemMessage, AIMessage"
   ]
  },
  {
   "cell_type": "code",
   "execution_count": 34,
   "metadata": {},
   "outputs": [],
   "source": [
    "openai_chat_llm = ChatOpenAI(openai_api_key=os.environ[\"OPENAI_API_KEY\"],model_name=\"gpt-3.5-turbo\",temperature=0.6)"
   ]
  },
  {
   "cell_type": "code",
   "execution_count": 35,
   "metadata": {},
   "outputs": [
    {
     "data": {
      "text/plain": [
       "AIMessage(content=\"Of course! Here are some cooking tips for a candlelight dinner:\\n\\n1. Choose recipes that are not too complicated or time-consuming, so you can spend more time enjoying the meal with your guest.\\n2. Prep as much as you can ahead of time to minimize stress during the actual cooking process.\\n3. Consider dishes that can be easily plated and served elegantly, such as a well-presented salad or a beautifully arranged charcuterie board.\\n4. Opt for foods that are known aphrodisiacs, such as oysters, chocolate, and strawberries, to set the mood for a romantic evening.\\n5. Don't forget to pay attention to the presentation of the dishes – garnishes, sauces, and plating can make a big difference in creating a memorable dining experience.\\n6. Pair your dishes with a complementary wine or cocktail to enhance the flavors and overall dining experience.\\n7. Lastly, don't stress too much about the cooking process – the most important thing is to create a warm and inviting atmosphere for your guest to enjoy the meal and each other's company.\", response_metadata={'token_usage': {'completion_tokens': 217, 'prompt_tokens': 29, 'total_tokens': 246}, 'model_name': 'gpt-3.5-turbo', 'system_fingerprint': 'fp_3b956da36b', 'finish_reason': 'stop', 'logprobs': None}, id='run-5da1fd33-9a46-46b6-9090-c7cfb2e543e2-0')"
      ]
     },
     "execution_count": 35,
     "metadata": {},
     "output_type": "execute_result"
    }
   ],
   "source": [
    "openai_chat_llm([\n",
    "    SystemMessage(content = \"You are a Chef AI assistent\"),\n",
    "    HumanMessage(content = \"Please provide me some cooking tips for a candle light dinner\")\n",
    "])"
   ]
  },
  {
   "cell_type": "markdown",
   "metadata": {},
   "source": [
    "### PromptTemplate + LLM + Output Parser"
   ]
  },
  {
   "cell_type": "code",
   "execution_count": 56,
   "metadata": {},
   "outputs": [],
   "source": [
    "from langchain.chat_models import ChatOpenAI\n",
    "from langchain.prompts.chat import ChatPromptTemplate\n",
    "from langchain.schema import BaseOutputParser"
   ]
  },
  {
   "cell_type": "code",
   "execution_count": 87,
   "metadata": {},
   "outputs": [],
   "source": [
    "class CommanSepratedOutput(BaseOutputParser):\n",
    "    def parse(self,text:str):\n",
    "        return text.strip().split(\",\")"
   ]
  },
  {
   "cell_type": "code",
   "execution_count": 97,
   "metadata": {},
   "outputs": [],
   "source": [
    "template = \"You are a asistent who has to give 5 words which defines the input word without numbering the 5 words\"\n",
    "human_template = \"{text}\"\n",
    "chatprompt = ChatPromptTemplate.from_messages([\n",
    "    (\"system\",template),\n",
    "    (\"human\",human_template)\n",
    "])"
   ]
  },
  {
   "cell_type": "code",
   "execution_count": 98,
   "metadata": {},
   "outputs": [],
   "source": [
    "chain=chatprompt|openai_chat_llm|CommanSepratedOutput()"
   ]
  },
  {
   "cell_type": "code",
   "execution_count": 100,
   "metadata": {},
   "outputs": [
    {
     "data": {
      "text/plain": [
       "['Fierce', ' powerful', ' majestic', ' carnivorous', ' striped']"
      ]
     },
     "execution_count": 100,
     "metadata": {},
     "output_type": "execute_result"
    }
   ],
   "source": [
    "chain.invoke({\"text\":\"Tiger\"})"
   ]
  }
 ],
 "metadata": {
  "kernelspec": {
   "display_name": "GenAI",
   "language": "python",
   "name": "genai"
  },
  "language_info": {
   "codemirror_mode": {
    "name": "ipython",
    "version": 3
   },
   "file_extension": ".py",
   "mimetype": "text/x-python",
   "name": "python",
   "nbconvert_exporter": "python",
   "pygments_lexer": "ipython3",
   "version": "3.9.0"
  }
 },
 "nbformat": 4,
 "nbformat_minor": 2
}
